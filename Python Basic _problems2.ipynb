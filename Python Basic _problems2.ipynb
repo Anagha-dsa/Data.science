{
  "nbformat": 4,
  "nbformat_minor": 0,
  "metadata": {
    "colab": {
      "provenance": [],
      "toc_visible": true,
      "authorship_tag": "ABX9TyPrG3rcEw4HOZbYvqMLE3aM",
      "include_colab_link": true
    },
    "kernelspec": {
      "name": "python3",
      "display_name": "Python 3"
    },
    "language_info": {
      "name": "python"
    }
  },
  "cells": [
    {
      "cell_type": "markdown",
      "metadata": {
        "id": "view-in-github",
        "colab_type": "text"
      },
      "source": [
        "<a href=\"https://colab.research.google.com/github/Anagha-dsa/Data.science/blob/main/practice_problems2.ipynb\" target=\"_parent\"><img src=\"https://colab.research.google.com/assets/colab-badge.svg\" alt=\"Open In Colab\"/></a>"
      ]
    },
    {
      "cell_type": "markdown",
      "source": [
        "1.Write a Python program to accept a string value from the user and display the count of each character in that string."
      ],
      "metadata": {
        "id": "UvVGJ3M3cZxW"
      }
    },
    {
      "cell_type": "code",
      "execution_count": null,
      "metadata": {
        "id": "1gY-hJUt24bX",
        "colab": {
          "base_uri": "https://localhost:8080/"
        },
        "outputId": "1124bc66-7bee-4a80-c069-0a19aac6bfb4"
      },
      "outputs": [
        {
          "output_type": "stream",
          "name": "stdout",
          "text": [
            "Enter a string value: assembly\n",
            "{'a': 1, 's': 1, 'e': 1, 'm': 1, 'b': 1, 'l': 1, 'y': 1}\n"
          ]
        }
      ],
      "source": [
        "#Q1. pgm to count each character of string\n",
        "\n",
        "a=input('Enter a string value: ')\n",
        "d={}\n",
        "\n",
        "for i in a:\n",
        "   if i==d:\n",
        "      d+=1\n",
        "   else:\n",
        "      d[i]=1\n",
        "\n",
        "print(d)"
      ]
    },
    {
      "cell_type": "markdown",
      "source": [
        "2.Write a Python function to find the maximum of three numbers"
      ],
      "metadata": {
        "id": "yaKOp4YeeLkp"
      }
    },
    {
      "cell_type": "code",
      "source": [
        "#Q2. pgm of func for 3 num\n",
        "\n",
        "def maxo(n1, n2, n3):\n",
        "\n",
        "    if n1 >= n2 and n1 >= n3:\n",
        "        return n1\n",
        "\n",
        "    elif n2 >= n1 and n2 >= n3:\n",
        "        return n2\n",
        "\n",
        "    else:\n",
        "        return n3\n",
        "\n",
        "maxo(34,12,7)"
      ],
      "metadata": {
        "id": "e87K1LMfeJea",
        "colab": {
          "base_uri": "https://localhost:8080/"
        },
        "outputId": "d20bb6c5-ec65-445a-9fc8-35e0a6cd28c3"
      },
      "execution_count": 1,
      "outputs": [
        {
          "output_type": "execute_result",
          "data": {
            "text/plain": [
              "34"
            ]
          },
          "metadata": {},
          "execution_count": 1
        }
      ]
    },
    {
      "cell_type": "markdown",
      "source": [
        "3.Write a Python function called exponent(base,exp) that returns an\n",
        "integer value of base raises to the power of exp"
      ],
      "metadata": {
        "id": "V9IiZxJyXkC5"
      }
    },
    {
      "cell_type": "code",
      "source": [
        "#Q3. pgm for func of exponent\n",
        "\n",
        "def expo(base,exp):\n",
        "\n",
        "    if(exp==1):\n",
        "        return(base)\n",
        "\n",
        "    if(exp!=1):\n",
        "        return(base*expo(base,exp-1))\n",
        "\n",
        "base=int(input(\"Enter base: \"))\n",
        "exp=int(input(\"Enter exponent: \"))\n",
        "print(expo(base,exp))\n",
        "\n"
      ],
      "metadata": {
        "colab": {
          "base_uri": "https://localhost:8080/"
        },
        "id": "1ySKoQqfXXDt",
        "outputId": "bacda093-a965-49b9-82cf-26640903cace"
      },
      "execution_count": null,
      "outputs": [
        {
          "output_type": "stream",
          "name": "stdout",
          "text": [
            "Enter base: 2\n",
            "Enter exponent: 3\n",
            "8\n"
          ]
        }
      ]
    },
    {
      "cell_type": "markdown",
      "source": [
        "4.Write a Python function that takes a positive integer and returns the sum\n",
        "of the cube of all the positive integers smaller than the specified number"
      ],
      "metadata": {
        "id": "MQx_FlVsZQgj"
      }
    },
    {
      "cell_type": "code",
      "source": [
        "\n",
        "#Q4. pgm for sum of cubes of a num\n",
        "\n",
        "def cube(n):\n",
        "      a = 0\n",
        "\n",
        "      for i in range(1, n):\n",
        "         a += i**3\n",
        "      return a\n",
        "\n",
        "n=int(input('enter the number: '))\n",
        "print (cube(n))"
      ],
      "metadata": {
        "colab": {
          "base_uri": "https://localhost:8080/"
        },
        "id": "SeQWhTKpZPFT",
        "outputId": "90f05a46-0671-4d4c-fc30-07d084f04084"
      },
      "execution_count": 2,
      "outputs": [
        {
          "output_type": "stream",
          "name": "stdout",
          "text": [
            "enter the number: 4\n",
            "36\n"
          ]
        }
      ]
    },
    {
      "cell_type": "markdown",
      "source": [
        "*5*. Write a Python program which iterates from 1 to 10. For multiples of 2,\n",
        "print “Fizz” instead of the number and for the multiples of 5, print “Buzz”.\n",
        "For numbers which are multiples of both 2 and 5, print “FizzBuzz”."
      ],
      "metadata": {
        "id": "i8S05__QlYzK"
      }
    },
    {
      "cell_type": "code",
      "source": [
        "#Q5.\n",
        "\n",
        "for i in range(1, 11):\n",
        "\n",
        "  if i % 2 == 0 and i % 5 == 0:\n",
        "    print('FizzBuzz')\n",
        "\n",
        "  elif i % 2 == 0:\n",
        "    print('Fizz')\n",
        "\n",
        "  elif i % 5 == 0:\n",
        "    print('Buzz')\n",
        "\n",
        "  else:\n",
        "    print(i)\n"
      ],
      "metadata": {
        "colab": {
          "base_uri": "https://localhost:8080/"
        },
        "id": "rHBcQI87lYUt",
        "outputId": "2d0f918d-23e1-45b2-d4ca-1896ab63d53c"
      },
      "execution_count": 3,
      "outputs": [
        {
          "output_type": "stream",
          "name": "stdout",
          "text": [
            "1\n",
            "Fizz\n",
            "3\n",
            "Fizz\n",
            "Buzz\n",
            "Fizz\n",
            "7\n",
            "Fizz\n",
            "9\n",
            "FizzBuzz\n"
          ]
        }
      ]
    },
    {
      "cell_type": "markdown",
      "source": [
        "6.. Write a Python program to find the most frequent item in a list of\n",
        "numbers."
      ],
      "metadata": {
        "id": "8fBl2ek0muGe"
      }
    },
    {
      "cell_type": "code",
      "source": [
        "#Q6. pgm to find most frequent item\n",
        "\n",
        "def mode(nums):\n",
        "    counts = {}\n",
        "    for num in nums:\n",
        "        if num not in counts:\n",
        "            counts[num] = 0\n",
        "        counts[num] += 1\n",
        "\n",
        "    most_frequent_item = None\n",
        "    most_frequent_count = 0\n",
        "    for item, count in counts.items():\n",
        "        if count > most_frequent_count:\n",
        "            most_frequent_item = item\n",
        "            most_frequent_count = count\n",
        "\n",
        "    return most_frequent_item\n",
        "\n",
        "nums=[2,3,4,2,5,2]\n",
        "print(mode(nums))"
      ],
      "metadata": {
        "colab": {
          "base_uri": "https://localhost:8080/"
        },
        "id": "0L_iZ34Gm64o",
        "outputId": "48888f71-a53b-402e-8e58-4c1b2de446fd"
      },
      "execution_count": 88,
      "outputs": [
        {
          "output_type": "stream",
          "name": "stdout",
          "text": [
            "2\n"
          ]
        }
      ]
    },
    {
      "cell_type": "markdown",
      "source": [
        "7.Write a Python program to find the sum of squares of the numbers in a\n",
        "list."
      ],
      "metadata": {
        "id": "kO4E8ZQ9tqbR"
      }
    },
    {
      "cell_type": "code",
      "source": [
        "#Q7. pgm for sum of squares of listed nums\n",
        "\n",
        "def sq(n):\n",
        "    sum=0\n",
        "    for i in n:\n",
        "       sum+=i**2\n",
        "    return sum\n",
        "\n",
        "n=[2,1,3,1]\n",
        "sq(n)\n",
        "\n",
        ""
      ],
      "metadata": {
        "colab": {
          "base_uri": "https://localhost:8080/"
        },
        "id": "A2RD6JdUtp5x",
        "outputId": "c7bad8bc-ae2e-4c1d-c817-2607da580921"
      },
      "execution_count": 89,
      "outputs": [
        {
          "output_type": "execute_result",
          "data": {
            "text/plain": [
              "15"
            ]
          },
          "metadata": {},
          "execution_count": 89
        }
      ]
    },
    {
      "cell_type": "markdown",
      "source": [
        "8.Write a Python program using for loop that will iterate from 1 to 15. For\n",
        "each iteration, check if the current number is odd or even, and display the\n",
        "message to the screen as odd or even"
      ],
      "metadata": {
        "id": "iWBytogdvFsh"
      }
    },
    {
      "cell_type": "code",
      "source": [
        "#Q8. pgm to display odd or even from no's 1 to 15\n",
        "\n",
        "for i in range(1,16):\n",
        "    if i%2==0:\n",
        "        print(i,'-even')\n",
        "    else:\n",
        "        print(i,'-odd')"
      ],
      "metadata": {
        "colab": {
          "base_uri": "https://localhost:8080/"
        },
        "id": "8whKzLuKuvfR",
        "outputId": "71e8ba50-3ba9-4a9e-d91f-6564d5069fde"
      },
      "execution_count": 13,
      "outputs": [
        {
          "output_type": "stream",
          "name": "stdout",
          "text": [
            "1 -odd\n",
            "2 -even\n",
            "3 -odd\n",
            "4 -even\n",
            "5 -odd\n",
            "6 -even\n",
            "7 -odd\n",
            "8 -even\n",
            "9 -odd\n",
            "10 -even\n",
            "11 -odd\n",
            "12 -even\n",
            "13 -odd\n",
            "14 -even\n",
            "15 -odd\n"
          ]
        }
      ]
    },
    {
      "cell_type": "markdown",
      "source": [
        "Write a Python program to convert temperatures to and from Celsius\n",
        "Fahrenheit. [Formula: c/5=f-32/9 where c=temperature in Celsius and f=\n",
        "temperature in Fahrenheit.]"
      ],
      "metadata": {
        "id": "Fw_bh5BZznBj"
      }
    },
    {
      "cell_type": "code",
      "source": [
        "#Q9.pgm for temp conversions\n",
        "\n",
        "temp=int(input('Temperature in fahrenheit: '))\n",
        "c=int(5*(temp-32)/9)\n",
        "print('Temperature in Celsius:',c)"
      ],
      "metadata": {
        "colab": {
          "base_uri": "https://localhost:8080/"
        },
        "id": "Cp2oKZGqv5jm",
        "outputId": "a90af392-6dd2-4a44-fc96-26607ba00c68"
      },
      "execution_count": 47,
      "outputs": [
        {
          "output_type": "stream",
          "name": "stdout",
          "text": [
            "Temperature in fahrenheit: 41\n",
            "Temperature in Celsius: 5\n"
          ]
        }
      ]
    },
    {
      "cell_type": "markdown",
      "source": [
        "10. Write a Python function to calculate the factorial of a number (a\n",
        "nonnegative integer). The function accepts the number as an argument."
      ],
      "metadata": {
        "id": "207PLkAr0-Ef"
      }
    },
    {
      "cell_type": "code",
      "source": [
        "#Q10. pgm for factorial\n",
        "\n",
        "def fun(n):\n",
        "    fact=1\n",
        "    for i in range(1,n+1):\n",
        "        fact=fact*i\n",
        "    return fact\n",
        "\n",
        "n=int(input('enter the number:'))\n",
        "print('factorial=',fun(n))"
      ],
      "metadata": {
        "colab": {
          "base_uri": "https://localhost:8080/"
        },
        "id": "EIWKI7Ct0WEt",
        "outputId": "2b29a00f-a5fa-4ae0-d5f6-5dd169ff1d6b"
      },
      "execution_count": 66,
      "outputs": [
        {
          "output_type": "stream",
          "name": "stdout",
          "text": [
            "enter the number:3\n",
            "factorial= 6\n"
          ]
        }
      ]
    },
    {
      "cell_type": "code",
      "source": [
        "\n",
        "\n",
        "\n"
      ],
      "metadata": {
        "id": "5lxCn_gb2FTj"
      },
      "execution_count": null,
      "outputs": []
    }
  ]
}
