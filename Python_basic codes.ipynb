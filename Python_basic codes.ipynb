{
  "cells": [
    {
      "cell_type": "markdown",
      "metadata": {
        "id": "view-in-github",
        "colab_type": "text"
      },
      "source": [
        "<a href=\"https://colab.research.google.com/github/Anagha-dsa/Data.science/blob/main/assignment_1.ipynb\" target=\"_parent\"><img src=\"https://colab.research.google.com/assets/colab-badge.svg\" alt=\"Open In Colab\"/></a>"
      ]
    },
    {
      "cell_type": "code",
      "execution_count": null,
      "metadata": {
        "colab": {
          "base_uri": "https://localhost:8080/"
        },
        "id": "d4TwC2t0JY4-",
        "outputId": "d85db892-d2f0-4938-a758-b0690adf54dc"
      },
      "outputs": [
        {
          "output_type": "stream",
          "name": "stdout",
          "text": [
            "Enter the radius: 3\n",
            "Area of circle is  28.259999999999998\n"
          ]
        }
      ],
      "source": [
        "#Q1\n",
        "# pgm for area of circle using user input\n",
        "\n",
        "\n",
        "r= float(input('Enter the radius: '))\n",
        "\n",
        "area=float(3.14*r*r)\n",
        "\n",
        "print('Area of circle is ',area)"
      ]
    },
    {
      "cell_type": "code",
      "source": [],
      "metadata": {
        "id": "1XyFhPhaVbHN"
      },
      "execution_count": null,
      "outputs": []
    },
    {
      "cell_type": "code",
      "execution_count": null,
      "metadata": {
        "colab": {
          "base_uri": "https://localhost:8080/"
        },
        "id": "LFzuKWbaP_-G",
        "outputId": "8f08d150-dce9-477c-e180-dd8e29fd8026"
      },
      "outputs": [
        {
          "output_type": "stream",
          "name": "stdout",
          "text": [
            "Enter the name: Anisha\n",
            "Enter the roll number:21\n",
            "Enter the mark: 78\n",
            "\n",
            "Name: Anisha\n",
            "Roll No: 21\n",
            "Mark: 78\n"
          ]
        }
      ],
      "source": [
        "#Q2\n",
        "# pgm to accept nd print student details\n",
        "\n",
        "\n",
        "nam=input('Enter the name: ')\n",
        "rol=input('Enter the roll number:')\n",
        "mar=input('Enter the mark: ')\n",
        "\n",
        "print(f\"\\nName: {nam}\\nRoll No: {rol}\\nMark: {mar}\")"
      ]
    },
    {
      "cell_type": "code",
      "execution_count": null,
      "metadata": {
        "id": "94KQjxHmT0cE",
        "colab": {
          "base_uri": "https://localhost:8080/"
        },
        "outputId": "ec428631-358c-465a-8180-6f5a05f2c463"
      },
      "outputs": [
        {
          "output_type": "stream",
          "name": "stdout",
          "text": [
            "47 is the largest number\n"
          ]
        }
      ],
      "source": [
        "#Q3\n",
        "#pgm to find largest frm list\n",
        "\n",
        "lis=[12,3,47,10]\n",
        "\n",
        "largest=print(max(lis),'is the largest number')"
      ]
    },
    {
      "cell_type": "code",
      "source": [
        "#Q4\n",
        "# pgm to iterate nd print sum of current nd previous one frm a range\n",
        "\n",
        "a=range(10)\n",
        "\n",
        "for i in a:\n",
        "    c= i+1\n",
        "    print('Current number:',c,'  Previous number:',i,'    Sum:',i+c)"
      ],
      "metadata": {
        "colab": {
          "base_uri": "https://localhost:8080/"
        },
        "id": "zsh3Vuo-XPJG",
        "outputId": "570bfec1-4e1c-4356-89cd-3352c76d00b5"
      },
      "execution_count": null,
      "outputs": [
        {
          "output_type": "stream",
          "name": "stdout",
          "text": [
            "Current number: 1   Previous number: 0     Sum: 1\n",
            "Current number: 2   Previous number: 1     Sum: 3\n",
            "Current number: 3   Previous number: 2     Sum: 5\n",
            "Current number: 4   Previous number: 3     Sum: 7\n",
            "Current number: 5   Previous number: 4     Sum: 9\n",
            "Current number: 6   Previous number: 5     Sum: 11\n",
            "Current number: 7   Previous number: 6     Sum: 13\n",
            "Current number: 8   Previous number: 7     Sum: 15\n",
            "Current number: 9   Previous number: 8     Sum: 17\n",
            "Current number: 10   Previous number: 9     Sum: 19\n"
          ]
        }
      ]
    },
    {
      "cell_type": "code",
      "source": [
        "#Q5\n",
        "# pgm to find multiples of 5\n",
        "\n",
        "num=[10,20,33,46,55]\n",
        "\n",
        "for i in num:\n",
        "    if i%5==0:\n",
        "        print(i)"
      ],
      "metadata": {
        "colab": {
          "base_uri": "https://localhost:8080/"
        },
        "id": "2Z_4dMJOY1U0",
        "outputId": "7a4d4d6b-b942-4d4d-ae8f-76a4f1bf17fc"
      },
      "execution_count": null,
      "outputs": [
        {
          "output_type": "stream",
          "name": "stdout",
          "text": [
            "10\n",
            "20\n",
            "55\n"
          ]
        }
      ]
    },
    {
      "cell_type": "code",
      "source": [],
      "metadata": {
        "id": "IywMJR2kf32o"
      },
      "execution_count": null,
      "outputs": []
    },
    {
      "cell_type": "code",
      "source": [
        "#Q6\n",
        "#pgm to check prime or not\n",
        "\n",
        "x=int(input('Enter the number'))\n",
        "\n",
        "if x>1:\n",
        "  for i in range(2,x):\n",
        "    if x%i==0:\n",
        "        print(x,'is not a prime')\n",
        "        break\n",
        "  else:\n",
        "         print(x,'is a prime number')\n",
        "\n",
        "else:\n",
        "    print(x,'is a prime number')"
      ],
      "metadata": {
        "colab": {
          "base_uri": "https://localhost:8080/"
        },
        "id": "hSrAqPBPbtGg",
        "outputId": "d88c37a4-56ad-421f-c91a-8b6b21232a04"
      },
      "execution_count": null,
      "outputs": [
        {
          "output_type": "stream",
          "name": "stdout",
          "text": [
            "Enter the number3\n",
            "3 is a prime number\n"
          ]
        }
      ]
    },
    {
      "cell_type": "code",
      "source": [
        "#Q7\n",
        "# pgm to reverse a list usng loop\n",
        "\n",
        "l=[10,40,30,70]\n",
        "leng=len(l)\n",
        "\n",
        "for i in l:\n",
        "    print(l[leng-1])\n",
        "    leng-=1"
      ],
      "metadata": {
        "id": "i1yPDFzueImY",
        "colab": {
          "base_uri": "https://localhost:8080/"
        },
        "outputId": "73c01ed3-3a0f-48d0-c690-37eb1ef86ea6"
      },
      "execution_count": null,
      "outputs": [
        {
          "output_type": "stream",
          "name": "stdout",
          "text": [
            "70\n",
            "30\n",
            "40\n",
            "10\n"
          ]
        }
      ]
    },
    {
      "cell_type": "code",
      "source": [
        "#Q8\n",
        "#pgm to print pattern\n",
        "\n",
        "p=input('enter the symbol to be repeated: ')\n",
        "q=int( input('enter the number of lines to be repeted: '))\n",
        "r=1\n",
        "\n",
        "for i in range(q):\n",
        "    print(p*r)\n",
        "    r+=1"
      ],
      "metadata": {
        "colab": {
          "base_uri": "https://localhost:8080/"
        },
        "id": "BqZOfQairyz3",
        "outputId": "26f6dcad-3670-4347-fb2e-ede217cfa829"
      },
      "execution_count": null,
      "outputs": [
        {
          "output_type": "stream",
          "name": "stdout",
          "text": [
            "enter the symbol to be repeated: *\n",
            "enter the number of lines to be repeted: 4\n",
            "*\n",
            "**\n",
            "***\n",
            "****\n"
          ]
        }
      ]
    },
    {
      "cell_type": "code",
      "source": [
        "#Q9\n",
        "#pgm to find largest of 3\n",
        "\n",
        "z= max(34,12,7)\n",
        "print(z)"
      ],
      "metadata": {
        "colab": {
          "base_uri": "https://localhost:8080/"
        },
        "id": "r7kb9Nwct0OC",
        "outputId": "c1510a09-2763-4d27-c740-80f88bcae4eb"
      },
      "execution_count": null,
      "outputs": [
        {
          "output_type": "stream",
          "name": "stdout",
          "text": [
            "34\n"
          ]
        }
      ]
    },
    {
      "cell_type": "code",
      "source": [
        "#Q10\n",
        "#pgm to print Pattern\n",
        "\n",
        "for j in range (1,11):\n",
        "\n",
        "    if j <6:\n",
        "        print ('*'*j)\n",
        "        j+=1\n",
        "        k=j-1\n",
        "    else:\n",
        "\n",
        "       k-=1\n",
        "       print ('*'*k)\n",
        "       j+=1"
      ],
      "metadata": {
        "id": "sNhfOXB3vDWk",
        "colab": {
          "base_uri": "https://localhost:8080/"
        },
        "outputId": "9f8b1ccc-c266-42bc-c004-7cac4fee8fda"
      },
      "execution_count": null,
      "outputs": [
        {
          "output_type": "stream",
          "name": "stdout",
          "text": [
            "*\n",
            "**\n",
            "***\n",
            "****\n",
            "*****\n",
            "****\n",
            "***\n",
            "**\n",
            "*\n",
            "\n"
          ]
        }
      ]
    },
    {
      "cell_type": "code",
      "source": [],
      "metadata": {
        "id": "nmt2MOaZBI8y"
      },
      "execution_count": null,
      "outputs": []
    },
    {
      "cell_type": "markdown",
      "source": [],
      "metadata": {
        "id": "a-7MKN8TCv-w"
      }
    }
  ],
  "metadata": {
    "colab": {
      "provenance": [],
      "authorship_tag": "ABX9TyM5Yp90X6T8y/RJ6lUbTKzZ",
      "include_colab_link": true
    },
    "kernelspec": {
      "display_name": "Python 3",
      "name": "python3"
    },
    "language_info": {
      "name": "python"
    }
  },
  "nbformat": 4,
  "nbformat_minor": 0
}
